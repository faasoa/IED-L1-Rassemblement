{
 "cells": [
  {
   "cell_type": "markdown",
   "id": "522a8884",
   "metadata": {},
   "source": [
    "Dans le cadre du cours de Méthodologie à la Programmation, vous allez faire un examen qui contient deux parties. Les deux exercices ressemblent à ce que vous avez fait pendant le semestre et à vos devoirs.  Le temps estimé pour les deux parties est de 45 minutes.\n",
    "\n",
    "Il faut déposer deux fichiers (.ipynb et .txt) sur Moodle, sur la page 'Méthodologie à la programmation_16Septembre2022'.\n",
    "\n",
    "**N'oubliez pas d'écrire votre nom et prénom sur les deux fichiers.**\n"
   ]
  },
  {
   "cell_type": "markdown",
   "id": "e8dc00b6",
   "metadata": {},
   "source": [
    "# Partie 1 : Création d'un dictionnaire"
   ]
  },
  {
   "cell_type": "markdown",
   "id": "827994f9",
   "metadata": {},
   "source": [
    "Une liste nommée \"ma_liste\" avec des valeurs numeriques est disponibles dans le script. Votre travail est d'utiliser ces données et d'écrire un script (en utilisant une boucle \"for\") qui affiche les resutats suivants: "
   ]
  },
  {
   "cell_type": "code",
   "execution_count": 3,
   "id": "6066351e",
   "metadata": {},
   "outputs": [
    {
     "name": "stdout",
     "output_type": "stream",
     "text": [
      "valeur_numero_0:11.25\n",
      "valeur_numero_1:18.0\n",
      "valeur_numero_2:20.0\n",
      "valeur_numero_3:10.75\n",
      "valeur_numero_4:9.5\n",
      "valeur_numero_0:11.25\n",
      "valeur_numero_1:18.0\n",
      "valeur_numero_2:20.0\n",
      "valeur_numero_3:10.75\n",
      "valeur_numero_4:9.5\n"
     ]
    }
   ],
   "source": [
    "# ma liste\n",
    "ma_liste = [11.25, 18.0, 20.0, 10.75, 9.50]\n",
    "\n",
    "# boucle facile à comprendre\n",
    "\n",
    "for idx in range(len(ma_liste)):\n",
    "    stringIdx = str(idx) # convertit l'index (entier) en chaîne de caractère\n",
    "    value = ma_liste[idx] # renvoie une valeur sous forme de nombre\n",
    "    stringValue = str(value) # convertit le nombre en chaîne de caractère\n",
    "    print(\"valeur_numero_\"+str(idx)+\":\"+stringValue)\n",
    "\n",
    "\n",
    "\n",
    "# meilleure solution : \n",
    "\n",
    "for num, value in enumerate(ma_liste):\n",
    "    print(f\"valeur_numero_{num}:{value}\")\n",
    "\n"
   ]
  },
  {
   "cell_type": "markdown",
   "id": "1f81fd30",
   "metadata": {},
   "source": [
    "### les resultats souhaités\n",
    "valeur_numero_0:11.25  \n",
    "valeur_numero_1:18.0  \n",
    "valeur_numero_2:20.0  \n",
    "valeur_numero_3:10.75  \n",
    "valeur_numero_4:9.5"
   ]
  },
  {
   "cell_type": "markdown",
   "id": "61c73a38",
   "metadata": {},
   "source": [
    "Un dictionaire avec des pays et leurs capitales est disponible. Votre travail est d'ecrire un script qui affiche les resultats suivants: "
   ]
  },
  {
   "cell_type": "code",
   "execution_count": 7,
   "id": "b689051f",
   "metadata": {},
   "outputs": [
    {
     "name": "stdout",
     "output_type": "stream",
     "text": [
      "dict_keys(['spain', 'france', 'germany', 'norway', 'italy', 'poland', 'austria'])\n",
      "the capital of spain is madrid\n",
      "the capital of france is paris\n",
      "the capital of germany is berlin\n",
      "the capital of norway is oslo\n",
      "the capital of italy is rome\n",
      "the capital of poland is warsaw\n",
      "the capital of austria is vienna\n",
      "the capital of spain is madrid\n",
      "the capital of france is paris\n",
      "the capital of germany is berlin\n",
      "the capital of norway is oslo\n",
      "the capital of italy is rome\n",
      "the capital of poland is warsaw\n",
      "the capital of austria is vienna\n"
     ]
    }
   ],
   "source": [
    "# Definition of dictionary\n",
    "europe = {'spain':'madrid', 'france':'paris', 'germany':'berlin',\n",
    "          'norway':'oslo', 'italy':'rome', 'poland':'warsaw', 'austria':'vienna' }\n",
    "\n",
    "# solution facile à comprendre : \n",
    "tousLesPays = europe.keys() # liste des pays\n",
    "print(tousLesPays)\n",
    "for pays in tousLesPays:\n",
    "    print(\"the capital of \" + pays + \" is \" + europe[pays])\n",
    "\n",
    "\n",
    "# en deux lignes\n",
    "for key in europe.keys():\n",
    "    print(f\"the capital of {key} is {europe[key]}\")"
   ]
  },
  {
   "cell_type": "markdown",
   "id": "6b2f87b7",
   "metadata": {},
   "source": [
    "### les resultats souhaités\n",
    "the capital of spain is madrid  \n",
    "the capital of france is paris  \n",
    "the capital of germany is berlin  \n",
    "the capital of norway is oslo  \n",
    "the capital of italy is rome  \n",
    "the capital of poland is warsaw  \n",
    "the capital of austria is vienna"
   ]
  },
  {
   "cell_type": "markdown",
   "id": "c2fc7d97",
   "metadata": {},
   "source": [
    "Ajoutez un pays (de votre choix) et sa capitale dans le dictionnaire, puis affichez le dictionnaire."
   ]
  },
  {
   "cell_type": "code",
   "execution_count": 8,
   "id": "3e4c2f7a",
   "metadata": {},
   "outputs": [
    {
     "name": "stdout",
     "output_type": "stream",
     "text": [
      "{'spain': 'madrid', 'france': 'paris', 'germany': 'berlin', 'norway': 'oslo', 'italy': 'rome', 'poland': 'warsaw', 'austria': 'vienna', 'portugal': 'lisboa'}\n"
     ]
    }
   ],
   "source": [
    "# Ajoutez un paye et sa capitale (code ici)\n",
    "europe['portugal'] = 'lisboa'\n",
    "\n",
    "# Affichez le dictionaire europe\n",
    "print(europe)"
   ]
  },
  {
   "cell_type": "code",
   "execution_count": 9,
   "id": "16619fed",
   "metadata": {},
   "outputs": [
    {
     "name": "stdout",
     "output_type": "stream",
     "text": [
      "dict_keys(['spain', 'france', 'germany', 'norway', 'italy', 'poland', 'austria', 'portugal'])\n",
      "oslo\n"
     ]
    }
   ],
   "source": [
    "# Affichez les clés du dictionaire Europe\n",
    "print(europe.keys())\n",
    "\n",
    "# Affichez la valeur associée à la clé 'norway'\n",
    "print(europe['norway'])"
   ]
  },
  {
   "cell_type": "markdown",
   "id": "e86f8c7f",
   "metadata": {},
   "source": [
    "Une version du dictionnaire européen est disponible dans le script. Il y a une erreur dans le dictionnaire. La capitale de la Germany n'est pas Bonn! C'est Berlin.\n",
    "\n",
    "Pouvez-vous la corriger ?"
   ]
  },
  {
   "cell_type": "code",
   "execution_count": 12,
   "id": "d72d111d",
   "metadata": {},
   "outputs": [],
   "source": [
    "europe = {'Spain':'Madrid', 'France':'Paris', 'Germany':'Bonn',\n",
    "          'Norway':'Oslo', 'Italy':'Rome', 'Poland':'Warsaw',\n",
    "          'Australia':'Vienna' }         \n",
    "\n",
    "europe['Germany'] = 'Berlin'"
   ]
  },
  {
   "cell_type": "code",
   "execution_count": 13,
   "id": "d0f59e0d",
   "metadata": {},
   "outputs": [
    {
     "name": "stdout",
     "output_type": "stream",
     "text": [
      "{'Spain': 'Madrid', 'France': 'Paris', 'Germany': 'Berlin', 'Norway': 'Oslo', 'Italy': 'Rome', 'Poland': 'Warsaw', 'Australia': 'Vienna'}\n"
     ]
    }
   ],
   "source": [
    "print(europe)"
   ]
  },
  {
   "cell_type": "code",
   "execution_count": null,
   "id": "26401995",
   "metadata": {},
   "outputs": [],
   "source": [
    "# Mise à jour de la capitale de \"Germany\"\n",
    "..."
   ]
  },
  {
   "cell_type": "markdown",
   "id": "7b74fb89",
   "metadata": {},
   "source": [
    "L'Australie n'est pas en Europe, l'Autriche l'est ! Retirez la clé \"Australia\" de *europe* et remplacez la par \"Austria\"."
   ]
  },
  {
   "cell_type": "code",
   "execution_count": 14,
   "id": "c4c2b8ec",
   "metadata": {},
   "outputs": [
    {
     "name": "stdout",
     "output_type": "stream",
     "text": [
      "{'Spain': 'Madrid', 'France': 'Paris', 'Germany': 'Berlin', 'Norway': 'Oslo', 'Italy': 'Rome', 'Poland': 'Warsaw', 'Austria': 'Vienna'}\n"
     ]
    }
   ],
   "source": [
    "# Suppression de l'Australie, remplacée par l'Autriche\n",
    "del(europe['Australia'])\n",
    "europe['Austria'] = 'Vienna'\n",
    "\n",
    "print(europe)"
   ]
  },
  {
   "cell_type": "markdown",
   "id": "9941232a",
   "metadata": {},
   "source": [
    "# Partie 2 : Manipulation d'un texte"
   ]
  },
  {
   "cell_type": "markdown",
   "id": "cf67301c",
   "metadata": {},
   "source": [
    "Ouvrez un fichier text et nommez le 'progSep.txt'. \n",
    "Ecrivez une phrase dans ce fichier et fermez le."
   ]
  },
  {
   "cell_type": "code",
   "execution_count": 15,
   "id": "dc236301",
   "metadata": {},
   "outputs": [],
   "source": [
    "#votre code ici : Ovrez un fichier text et nommez le 'progSep.txt'. \n",
    "...\n",
    "#votre code ici : Ecrivez une phrase dans ce fichier et fermez le.\n",
    "...\n",
    "with open(\"progSep.txt\", \"w+\") as fichier:\n",
    "    fichier.write(\"une phrase dans ce fichier et fermez-le. \")\n",
    "\n",
    "# avec la structure \"with open\", le fichier est automatiquement fermé à la fin de l'indentation. "
   ]
  },
  {
   "cell_type": "markdown",
   "id": "aa3be282",
   "metadata": {},
   "source": [
    "Ouvrez le fichier qui s'appelle \"data.txt\". \n",
    "Affichez le texte.\n",
    "Enlevez les \"stop words\".\n",
    "Ecrivez le meme texte sans stop words dans un autre fichier nommé : \"data_stw.txt\"."
   ]
  },
  {
   "cell_type": "code",
   "execution_count": 11,
   "id": "17930834",
   "metadata": {},
   "outputs": [
    {
     "name": "stdout",
     "output_type": "stream",
     "text": [
      "['Ink helps drive democracy in Asia\\n', '\\n', \"The Kyrgyz Republic, a small, mountainous state of the former Soviet republic, is using invisible ink and ultraviolet readers in the country's elections as part of a drive to prevent multiple voting.\\n\", '\\n', 'This new technology is causing both worries and guarded optimism among different sectors of the population. In an effort to live up to its reputation in the 1990s as \"an island of democracy\", the Kyrgyz President, Askar Akaev, pushed through the law requiring the use of ink during the upcoming Parliamentary and Presidential elections. The US government agreed to fund all expenses associated with this decision.\\n', '\\n', 'The Kyrgyz Republic is seen by many experts as backsliding from the high point it reached in the mid-1990s with a hastily pushed through referendum in 2003, reducing the legislative branch to one chamber with 75 deputies. The use of ink is only one part of a general effort to show commitment towards more open elections - the German Embassy, the Soros Foundation and the Kyrgyz government have all contributed to purchase transparent ballot boxes.\\n', '\\n', \"The actual technology behind the ink is not that complicated. The ink is sprayed on a person's left thumb. It dries and is not visible under normal light.\\n\", '\\n', \"However, the presence of ultraviolet light (of the kind used to verify money) causes the ink to glow with a neon yellow light. At the entrance to each polling station, one election official will scan voter's fingers with UV lamp before allowing them to enter, and every voter will have his/her left thumb sprayed with ink before receiving the ballot. If the ink shows under the UV light the voter will not be allowed to enter the polling station. Likewise, any voter who refuses to be inked will not receive the ballot. These elections are assuming even greater significance because of two large factors - the upcoming parliamentary elections are a prelude to a potentially regime changing presidential election in the Autumn as well as the echo of recent elections in other former Soviet Republics, notably Ukraine and Georgia. The use of ink has been controversial - especially among groups perceived to be pro-government.\\n\", '\\n', 'Widely circulated articles compared the use of ink to the rural practice of marking sheep - a still common metaphor in this primarily agricultural society.\\n', '\\n', 'The author of one such article began a petition drive against the use of the ink. The greatest part of the opposition to ink has often been sheer ignorance. Local newspapers have carried stories that the ink is harmful, radioactive or even that the ultraviolet readers may cause health problems. Others, such as the aggressively middle of the road, Coalition of Non-governmental Organizations, have lauded the move as an important step forward. This type of ink has been used in many elections in the world, in countries as varied as Serbia, South Africa, Indonesia and Turkey. The other common type of ink in elections is indelible visible ink - but as the elections in Afghanistan showed, improper use of this type of ink can cause additional problems. The use of \"invisible\" ink is not without its own problems. In most elections, numerous rumors have spread about it.\\n', '\\n', 'In Serbia, for example, both Christian and Islamic leaders assured their populations that its use was not contrary to religion. Other rumours are associated with how to remove the ink - various soft drinks, solvents and cleaning products are put forward. However, in reality, the ink is very effective at getting under the cuticle of the thumb and difficult to wash off. The ink stays on the finger for at least 72 hours and for up to a week. The use of ink and readers by itself is not a panacea for election ills. The passage of the inking law is, nevertheless, a clear step forward towards free and fair elections.\" The country\\'s widely watched parliamentary elections are scheduled for 27 February.\\n', '\\n', 'David Mikosz works for the IFES, an international, non-profit organisation that supports the building of democratic societies.']\n",
      "Ink helps drive democracy Asia\n",
      "\n",
      "Kyrgyz Republic, small, mountainous state of former Soviet republic, using invisible ink and ultraviolet readers country's elections as part of drive to prevent multiple voting.\n",
      "\n",
      "new technology causing both worries and guarded optimism among different sectors of population. an effort to live up to its reputation 1990s as \"an island of democracy\", Kyrgyz President, Askar Akaev, pushed through law requiring use of ink during upcoming Parliamentary and Presidential elections. US government agreed to fund all expenses associated with decision.\n",
      "\n",
      "Kyrgyz Republic seen by many experts as backsliding from high point it reached mid-1990s with hastily pushed through referendum 2003, reducing legislative branch to one chamber with 75 deputies. use of ink only one part of general effort to show commitment towards more open elections - German Embassy, Soros Foundation and Kyrgyz government have all contributed to purchase transparent ballot boxes.\n",
      "\n",
      "actual technology behind ink not that complicated. ink sprayed on person's left thumb. It dries and not visible under normal light.\n",
      "\n",
      "However, presence of ultraviolet light (of kind used to verify money) causes ink to glow with neon yellow light. entrance to each polling station, one election official will scan voter's fingers with UV lamp before allowing them to enter, and every voter will have his/her left thumb sprayed with ink before receiving ballot. If ink shows under UV light voter will not be allowed to enter polling station. Likewise, any voter who refuses to be inked will not receive ballot. These elections assuming even greater significance because of two large factors - upcoming parliamentary elections prelude to potentially regime changing presidential election Autumn as well as echo of recent elections other former Soviet Republics, notably Ukraine and Georgia. use of ink has been controversial - especially among groups perceived to be pro-government.\n",
      "\n",
      "Widely circulated articles compared use of ink to rural practice of marking sheep - still common metaphor primarily agricultural society.\n",
      "\n",
      "author of one such article began petition drive against use of ink. greatest part of opposition to ink has often been sheer ignorance. Local newspapers have carried stories that ink harmful, radioactive or even that ultraviolet readers may cause health problems. Others, such as aggressively middle of road, Coalition of Non-governmental Organizations, have lauded move as an important step forward. type of ink has been used many elections world, countries as varied as Serbia, South Africa, Indonesia and Turkey. other common type of ink elections indelible visible ink - but as elections Afghanistan showed, improper use of type of ink can cause additional problems. use of \"invisible\" ink not without its own problems. most elections, numerous rumors have spread about it.\n",
      "\n",
      "Serbia, for example, both Christian and Islamic leaders assured their populations that its use was not contrary to religion. Other rumours associated with how to remove ink - various soft drinks, solvents and cleaning products put forward. However, reality, ink very effective getting under cuticle of thumb and difficult to wash off. ink stays on finger for least 72 hours and for up to week. use of ink and readers by itself not panacea for election ills. passage of inking law nevertheless, clear step forward towards free and fair elections.\" country's widely watched parliamentary elections scheduled for 27 February.\n",
      "\n",
      "David Mikosz works for IFES, an international, non-profit organisation that supports building of democratic societies.\n",
      "\n"
     ]
    }
   ],
   "source": [
    "# Attention : exercice beaucoup plus difficile si on veut le faire sérieusement. Les exercices des autres années présentent un niveau de difficulté moindre. \n",
    "\n",
    "#votre code ici : Ouvrez le fichier qui s'appelle 'data.txt'.\n",
    "with open('data.txt', \"r\") as fichier:\n",
    "    lines = fichier.readlines()\n",
    "\n",
    "\n",
    "#votre code ici : Affichez le texte.\n",
    "print(lines)\n",
    "\n",
    "#votre code ici : Enlevez les stop words.\n",
    "stopWords = [\"the\", \"this\", \"a\", \"is\", \"are\", \"in\", \"at\"]\n",
    "\n",
    "ponctuation = \",.?!:\"\n",
    "\n",
    "# la difficulté ici est multiple : \n",
    "# - séparer le texte en mots, en ne tenant pas compte de  la ponctuation\n",
    "# - gérer les mots possédant une majuscule\n",
    "# - recréer un nouveau texte\n",
    "\n",
    "# une fois analysées ces trois difficultés, on peut séparer le travail en plusieurs fonctions : \n",
    "\n",
    "# fonction globale de traitement du texte : \n",
    "\n",
    "def traitement_du_texte(lines):\n",
    "    # on initialise le texte à retourner (chaîne vide)\n",
    "    texte_modifie = \"\"\n",
    "    # on sépare le texte en paragraphes : \n",
    "    \n",
    "\n",
    "    # on traite ensuite chaque paragraphe pour en retirer les stopWords\n",
    "    for line in lines:\n",
    "        nouveau_parag = modif_parag(line)\n",
    "    \n",
    "    # on ajoute le paragraphe modifié au texte total\n",
    "        texte_modifie += nouveau_parag\n",
    "    \n",
    "    # à la fin de la boucle sur les paragraphes, on retourne le texte modifié. \n",
    "    return texte_modifie\n",
    "\n",
    "def modif_parag(parag):\n",
    "    \"\"\"\n",
    "    fonction modifiant un paragraphe et retournant le paragraphe sans stopwords\n",
    "    \"\"\"\n",
    "    if parag == '\\n':\n",
    "        return \"\"\n",
    "    # on commence par séparer le texte en une liste de mots : \n",
    "    liste_mots = parag.split(' ')\n",
    "\n",
    "    # on initialise une liste vide\n",
    "    liste_mots_sans_stopwords = []\n",
    "    for mot in liste_mots:\n",
    "        # on nettoie ensuite chaque mot\n",
    "        mot_nettoye = nettoie_mot(mot)\n",
    "        # on teste le mot nettoyé\n",
    "        if teste_mot(mot_nettoye):\n",
    "            # s'il est correct, on ajoute le mot D'ORIGINE (pour garder ponctuation et majuscules)\n",
    "            liste_mots_sans_stopwords.append(mot)\n",
    "\n",
    "    nouveau_parag = liste_en_parag(liste_mots_sans_stopwords)\n",
    "\n",
    "    return nouveau_parag\n",
    "\n",
    "def nettoie_mot(mot):\n",
    "    mot_nettoye = mot.lower()\n",
    "    if mot_nettoye[-1] in ponctuation:\n",
    "        # si le dernier caractère est une ponctuation, on le supprime\n",
    "        mot_nettoye = mot_nettoye[:-1]\n",
    "    \n",
    "    return mot_nettoye\n",
    "\n",
    "def teste_mot(mot):\n",
    "    return mot not in stopWords\n",
    "\n",
    "def liste_en_parag(liste_mots):\n",
    "    parag = \"\"\n",
    "    for mot in liste_mots:\n",
    "        # pour chaque mot, on l'ajoute, suivi d'un espace\n",
    "        parag += mot + \" \"\n",
    "    \n",
    "    #On élimine ensuite le dernier espace : \n",
    "    parag = parag[: -1]\n",
    "    # et on ajoute un retour à la ligne : \n",
    "    parag += '\\n'\n",
    "    return parag\n",
    "\n",
    "texte_modifie = traitement_du_texte(lines)\n",
    "\n",
    "print(texte_modifie)\n",
    "\n",
    "#votre code ici : Ecrivez le meme texte sans stop words dans un autre fichier nommé : 'data_stw.txt'\n",
    "with open('data_stw.txt', \"w+\") as file_out:\n",
    "    file_out.write(texte_modifie)"
   ]
  }
 ],
 "metadata": {
  "kernelspec": {
   "display_name": "Python 3",
   "language": "python",
   "name": "python3"
  },
  "language_info": {
   "codemirror_mode": {
    "name": "ipython",
    "version": 3
   },
   "file_extension": ".py",
   "mimetype": "text/x-python",
   "name": "python",
   "nbconvert_exporter": "python",
   "pygments_lexer": "ipython3",
   "version": "3.11.0rc1"
  }
 },
 "nbformat": 4,
 "nbformat_minor": 5
}
