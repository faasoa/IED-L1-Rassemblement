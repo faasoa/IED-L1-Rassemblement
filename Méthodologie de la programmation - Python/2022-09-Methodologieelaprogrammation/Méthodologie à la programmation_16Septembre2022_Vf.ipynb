{
 "cells": [
  {
   "cell_type": "markdown",
   "id": "522a8884",
   "metadata": {},
   "source": [
    "Dans le cadre du cours de Méthodologie à la Programmation, vous allez faire un examen qui contient deux parties. Les deux exercices ressemblent à ce que vous avez fait pendant le semestre et à vos devoirs.  Le temps estimé pour les deux parties est de 45 minutes.\n",
    "\n",
    "Il faut déposer deux fichiers (.ipynb et .txt) sur Moodle, sur la page 'Méthodologie à la programmation_16Septembre2022'.\n",
    "\n",
    "**N'oubliez pas d'écrire votre nom et prénom sur les deux fichiers.**\n"
   ]
  },
  {
   "cell_type": "markdown",
   "id": "e8dc00b6",
   "metadata": {},
   "source": [
    "# Partie 1 : Création d'un dictionnaire"
   ]
  },
  {
   "cell_type": "markdown",
   "id": "827994f9",
   "metadata": {},
   "source": [
    "Une liste nommée \"ma_liste\" avec des valeurs numeriques est disponibles dans le script. Votre travail est d'utiliser ces données et d'écrire un script (en utilisant une boucle \"for\") qui affiche les resutats suivants: "
   ]
  },
  {
   "cell_type": "code",
   "execution_count": 1,
   "id": "6066351e",
   "metadata": {},
   "outputs": [],
   "source": [
    "# ma liste\n",
    "ma_liste = [11.25, 18.0, 20.0, 10.75, 9.50]"
   ]
  },
  {
   "cell_type": "markdown",
   "id": "1f81fd30",
   "metadata": {},
   "source": [
    "### les resultats souhaités\n",
    "valeur_numero_0:11.25  \n",
    "valeur_numero_1:18.0  \n",
    "valeur_numero_2:20.0  \n",
    "valeur_numero_3:10.75  \n",
    "valeur_numero_4:9.5"
   ]
  },
  {
   "cell_type": "markdown",
   "id": "61c73a38",
   "metadata": {},
   "source": [
    "Un dictionaire avec des pays et leurs capitales est disponible. Votre travail est d'ecrire un script qui affiche les resultats suivants: "
   ]
  },
  {
   "cell_type": "code",
   "execution_count": 3,
   "id": "b689051f",
   "metadata": {},
   "outputs": [],
   "source": [
    "# Definition of dictionary\n",
    "europe = {'spain':'madrid', 'france':'paris', 'germany':'berlin',\n",
    "          'norway':'oslo', 'italy':'rome', 'poland':'warsaw', 'austria':'vienna' }"
   ]
  },
  {
   "cell_type": "markdown",
   "id": "6b2f87b7",
   "metadata": {},
   "source": [
    "### les resultats souhaités\n",
    "the capital of spain is madrid  \n",
    "the capital of france is paris  \n",
    "the capital of germany is berlin  \n",
    "the capital of norway is oslo  \n",
    "the capital of italy is rome  \n",
    "the capital of poland is warsaw  \n",
    "the capital of austria is vienna"
   ]
  },
  {
   "cell_type": "markdown",
   "id": "c2fc7d97",
   "metadata": {},
   "source": [
    "Ajoutez un pays (de votre choix) et sa capitale dans le dictionnaire, puis affichez le dictionnaire."
   ]
  },
  {
   "cell_type": "code",
   "execution_count": null,
   "id": "3e4c2f7a",
   "metadata": {},
   "outputs": [],
   "source": [
    "# Ajoutez un paye et sa capitale (code ici)\n",
    "...\n",
    "\n",
    "# Affichez le dictionaire europe\n",
    "print(europe)"
   ]
  },
  {
   "cell_type": "code",
   "execution_count": null,
   "id": "16619fed",
   "metadata": {},
   "outputs": [],
   "source": [
    "# Affichez les clés du dictionaire Europe\n",
    "print(...)\n",
    "\n",
    "# Affichez la valeur associée à la clé 'norway'\n",
    "print(...)"
   ]
  },
  {
   "cell_type": "markdown",
   "id": "e86f8c7f",
   "metadata": {},
   "source": [
    "Une version du dictionnaire européen est disponible dans le script. Il y a une erreur dans le dictionnaire. La capitale de la Germany n'est pas Bonn! C'est Berlin.\n",
    "\n",
    "Pouvez-vous la corriger ?"
   ]
  },
  {
   "cell_type": "code",
   "execution_count": null,
   "id": "d72d111d",
   "metadata": {},
   "outputs": [],
   "source": [
    "europe = {'Spain':'Madrid', 'France':'Paris', 'Germany':'Bonn',\n",
    "          'Norway':'Oslo', 'Italy':'Rome', 'Poland':'Warsaw',\n",
    "          'Australia':'Vienna' }         "
   ]
  },
  {
   "cell_type": "code",
   "execution_count": null,
   "id": "d0f59e0d",
   "metadata": {},
   "outputs": [],
   "source": [
    "print(europe)"
   ]
  },
  {
   "cell_type": "code",
   "execution_count": null,
   "id": "26401995",
   "metadata": {},
   "outputs": [],
   "source": [
    "# Mise à jour de la capitale de \"Germany\"\n",
    "..."
   ]
  },
  {
   "cell_type": "markdown",
   "id": "7b74fb89",
   "metadata": {},
   "source": [
    "L'Australie n'est pas en Europe, l'Autriche l'est ! Retirez la clé \"Australia\" de *europe* et remplacez la par \"Austria\"."
   ]
  },
  {
   "cell_type": "code",
   "execution_count": null,
   "id": "c4c2b8ec",
   "metadata": {},
   "outputs": [],
   "source": [
    "# Suppression de l'Australie, remplacée par l'Autriche\n",
    "...\n",
    "\n",
    "print(europe)"
   ]
  },
  {
   "cell_type": "markdown",
   "id": "9941232a",
   "metadata": {},
   "source": [
    "# Partie 2 : Manipulation d'un texte"
   ]
  },
  {
   "cell_type": "markdown",
   "id": "cf67301c",
   "metadata": {},
   "source": [
    "Ouvrez un fichier text et nommez le 'progSep.txt'. \n",
    "Ecrivez une phrase dans ce fichier et fermez le."
   ]
  },
  {
   "cell_type": "code",
   "execution_count": null,
   "id": "dc236301",
   "metadata": {},
   "outputs": [],
   "source": [
    "#votre code ici : Ovrez un fichier text et nommez le 'progSep.txt'. \n",
    "...\n",
    "\n",
    "#votre code ici : Ecrivez une phrase dans ce fichier et fermez le.\n",
    "..."
   ]
  },
  {
   "cell_type": "markdown",
   "id": "aa3be282",
   "metadata": {},
   "source": [
    "Ouvrez le fichier qui s'appelle \"data.txt\". \n",
    "Affichez le texte.\n",
    "Enlevez les \"stop words\".\n",
    "Ecrivez le meme texte sans stop words dans un autre fichier nommé : \"data_stw.txt\"."
   ]
  },
  {
   "cell_type": "code",
   "execution_count": null,
   "id": "17930834",
   "metadata": {},
   "outputs": [],
   "source": [
    "#votre code ici : Ouvrez le fichier qui s'appelle 'data.txt'.\n",
    "...\n",
    "\n",
    "#votre code ici : Affichez le texte.\n",
    "...\n",
    "\n",
    "#votre code ici : Enlevez les stop words.\n",
    "...\n",
    "\n",
    "#votre code ici : Ecrivez le meme texte sans stop words dans un autre fichier nommé : 'data_stw.txt'\n",
    "..."
   ]
  }
 ],
 "metadata": {
  "kernelspec": {
   "display_name": "Python 3",
   "language": "python",
   "name": "python3"
  },
  "language_info": {
   "codemirror_mode": {
    "name": "ipython",
    "version": 3
   },
   "file_extension": ".py",
   "mimetype": "text/x-python",
   "name": "python",
   "nbconvert_exporter": "python",
   "pygments_lexer": "ipython3",
   "version": "3.8.5"
  }
 },
 "nbformat": 4,
 "nbformat_minor": 5
}
