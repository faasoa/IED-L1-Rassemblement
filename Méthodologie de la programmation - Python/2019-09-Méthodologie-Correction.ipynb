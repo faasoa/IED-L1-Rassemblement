{
 "cells": [
  {
   "cell_type": "markdown",
   "metadata": {},
   "source": [
    "- Nom         :\n",
    "- Prénom      :\n",
    "- N. étudiant :"
   ]
  },
  {
   "cell_type": "markdown",
   "metadata": {
    "id": "lQoA-Gz17KsI"
   },
   "source": [
    "\n",
    "> ### _**Note**: inutile de s'arrêter sur les notions de biologie exposées pour réaliser les exercices, elles servent ici simplement d'illustration. Au besoin, reportez vous aux exemples pour mieux comprendre les questions._\n",
    "\n",
    "L'__ADN__ contient l'information génétique permettant le fonctionnement des êtres vivants.\n",
    "\n",
    "Il est constitué de deux brins formant une double hélice.  \n",
    "Chaque brin est formé par une chaine de _nucléotides_, qui contiennent l'une des bases suivantes :\n",
    "\n",
    "- __A__ pour _Adénine_\n",
    "- __T__ pour _Thymine_\n",
    "- __G__ pour _Guanine_\n",
    "- __C__ pour _Cytosine_\n",
    "\n",
    "L'ordre dans lequel se succèdent les nucléotides le long d'un brin d'ADN constitue la _séquence_ de ce brin.  \n",
    "C'est elle qui porte l'information génétique."
   ]
  },
  {
   "cell_type": "markdown",
   "metadata": {
    "id": "yZ0FFq1v7KsP"
   },
   "source": [
    "# Lecture d'une séquence\n",
    "\n",
    "Nous pouvons stocker une séquence d'ADN dans un fichier simplement à l'aide d'une chaine de caractères de cette forme:\n",
    "```\n",
    "'AATGTCCAGTCAGTTG...'\n",
    "```\n",
    "\n",
    "Ecrire une fonction `lire_adn(filename)` permettant de lire et retourner le contenu d'un tel fichier.\n",
    "\n",
    "Par exemple, `lire_adn(\"ncov-s.txt\")` retournera la séquence `\"ATGTTTGTTTTTCTT...\"`."
   ]
  },
  {
   "cell_type": "code",
   "execution_count": 1,
   "metadata": {
    "id": "hmkDAw0x7KsP"
   },
   "outputs": [],
   "source": [
    "#le document pdf demande une fonction capable de trier les lettres A,T, G, C parmi le texte.\n",
    "\n",
    "def lire_adn(filename):\n",
    "     # votre code ici\n",
    "        #initialisatin de la variable réponse\n",
    "    rep=''\n",
    "    #ouverture du flux\n",
    "    with open(filename, 'r') as fp:\n",
    "        #lecture de chaque ligne\n",
    "        for ligne in fp :\n",
    "            #lecture de chaque caractère\n",
    "            for carac in ligne :\n",
    "                #test de caractère\n",
    "                if carac in ('A','T','G','C'):\n",
    "                    #concaténation\n",
    "                    rep += carac\n",
    "    return rep\n"
   ]
  },
  {
   "cell_type": "code",
   "execution_count": 2,
   "metadata": {},
   "outputs": [
    {
     "name": "stdout",
     "output_type": "stream",
     "text": [
      "ATGTTTGTTTTTCTTGTTTTATTGCCACTAGTCTCTAGTCAGTGTGTTAATCTTACAACCAGAACTCAAT\n",
      "TACCCCCTGCATACACTAATTCTTTCACACGTGGTGTTTATTACCCTGACAAAGTTTTCAGATCCTCAGT\n",
      "TTTACATTCAACTCAGGACTTGTTCTTACCTTTCTTTTCCAATGTTACTTGGTTCCATGCTATACATGTC\n",
      "TCTGGGACCAATGGTACTAAGAGGTTTGATAACCCTGTCCTACCATTTAATGATGGTGTTTATTTTGCTT\n",
      "CCACTGAGAAGTCTAACATAATAAGAGGCTGGATTTTTGGTACTACTTTAGATTCGAAGACCCAGTCCCT\n",
      "ACTTATTGTTAATAACGCTACTAATGTTGTTATTAAAGTCTGTGAATTTCAATTTTGTAATGATCCATTT\n",
      "TTGGGTGTTTATTACCACAAAAACAACAAAAGTTGGATGGAAAGTGAGTTCAGAGTTTATTCTAGTGCGA\n",
      "ATAATTGCACTTTTGAATATGTCTCTCAGCCTTTTCTTATGGACCTTGAAGGAAAACAGGGTAATTTCAA\n",
      "AAATCTTAGGGAATTTGTGTTTAAGAATATTGATGGTTATTTTAAAATATATTCTAAGCACACGCCTATT\n",
      "AATTTAGTGCGTGATCTCCCTCAGGGTTTTTCGGCTTTAGAACCATTGGTAGATTTGCCAATAGGTATTA\n",
      "ACATCACTAGGTTTCAAACTTTACTTGCTTTACATAGAAGTTATTTGACTCCTGGTGATTCTTCTTCAGG\n",
      "TTGGACAGCTGGTGCTGCAGCTTATTATGTGGGTTATCTTCAACCTAGGACTTTTCTATTAAAATATAAT\n",
      "GAAAATGGAACCATTACAGATGCTGTAGACTGTGCACTTGACCCTCTCTCAGAAACAAAGTGTACGTTGA\n",
      "AATCCTTCACTGTAGAAAAAGGAATCTATCAAACTTCTAACTTTAGAGTCCAACCAACAGAATCTATTGT\n",
      "TAGATTTCCTAATATTACAAACTTGTGCCCTTTTGGTGAAGTTTTTAACGCCACCAGATTTGCATCTGTT\n",
      "TATGCTTGGAACAGGAAGAGAATCAGCAACTGTGTTGCTGATTATTCTGTCCTATATAATTCCGCATCAT\n",
      "TTTCCACTTTTAAGTGTTATGGAGTGTCTCCTACTAAATTAAATGATCTCTGCTTTACTAATGTCTATGC\n",
      "AGATTCATTTGTAATTAGAGGTGATGAAGTCAGACAAATCGCTCCAGGGCAAACTGGAAAGATTGCTGAT\n",
      "TATAATTATAAATTACCAGATGATTTTACAGGCTGCGTTATAGCTTGGAATTCTAACAATCTTGATTCTA\n",
      "AGGTTGGTGGTAATTATAATTACCTGTATAGATTGTTTAGGAAGTCTAATCTCAAACCTTTTGAGAGAGA\n",
      "TATTTCAACTGAAATCTATCAGGCCGGTAGCACACCTTGTAATGGTGTTGAAGGTTTTAATTGTTACTTT\n",
      "CCTTTACAATCATATGGTTTCCAACCCACTAATGGTGTTGGTTACCAACCATACAGAGTAGTAGTACTTT\n",
      "CTTTTGAACTTCTACATGCACCAGCAACTGTTTGTGGACCTAAAAAGTCTACTAATTTGGTTAAAAACAA\n",
      "ATGTGTCAATTTCAACTTCAATGGTTTAACAGGCACAGGTGTTCTTACTGAGTCTAACAAAAAGTTTCTG\n",
      "CCTTTCCAACAATTTGGCAGAGACATTGCTGACACTACTGATGCTGTCCGTGATCCACAGACACTTGAGA\n",
      "TTCTTGACATTACACCATGTTCTTTTGGTGGTGTCAGTGTTATAACACCAGGAACAAATACTTCTAACCA\n",
      "GGTTGCTGTTCTTTATCAGGATGTTAACTGCACAGAAGTCCCTGTTGCTATTCATGCAGATCAACTTACT\n",
      "CCTACTTGGCGTGTTTATTCTACAGGTTCTAATGTTTTTCAAACACGTGCAGGCTGTTTAATAGGGGCTG\n",
      "AACATGTCAACAACTCATATGAGTGTGACATACCCATTGGTGCAGGTATATGCGCTAGTTATCAGACTCA\n",
      "GACTAATTCTCCTCGGCGGGCACGTAGTGTAGCTAGTCAATCCATCATTGCCTACACTATGTCACTTGGT\n",
      "GCAGAAAATTCAGTTGCTTACTCTAATAACTCTATTGCCATACCCACAAATTTTACTATTAGTGTTACCA\n",
      "CAGAAATTCTACCAGTGTCTATGACCAAGACATCAGTAGATTGTACAATGTACATTTGTGGTGATTCAAC\n",
      "TGAATGCAGCAATCTTTTGTTGCAATATGGCAGTTTTTGTACACAATTAAACCGTGCTTTAACTGGAATA\n",
      "GCTGTTGAACAAGACAAAAACACCCAAGAAGTTTTTGCACAAGTCAAACAAATTTACAAAACACCACCAA\n",
      "TTAAAGATTTTGGTGGTTTTAATTTTTCACAAATATTACCAGATCCATCAAAACCAAGCAAGAGGTCATT\n",
      "TATTGAAGATCTACTTTTCAACAAAGTGACACTTGCAGATGCTGGCTTCATCAAACAATATGGTGATTGC\n",
      "CTTGGTGATATTGCTGCTAGAGACCTCATTTGTGCACAAAAGTTTAACGGCCTTACTGTTTTGCCACCTT\n",
      "TGCTCACAGATGAAATGATTGCTCAATACACTTCTGCACTGTTAGCGGGTACAATCACTTCTGGTTGGAC\n",
      "CTTTGGTGCAGGTGCTGCATTACAAATACCATTTGCTATGCAAATGGCTTATAGGTTTAATGGTATTGGA\n",
      "GTTACACAGAATGTTCTCTATGAGAACCAAAAATTGATTGCCAACCAATTTAATAGTGCTATTGGCAAAA\n",
      "TTCAAGACTCACTTTCTTCCACAGCAAGTGCACTTGGAAAACTTCAAGATGTGGTCAACCAAAATGCACA\n",
      "AGCTTTAAACACGCTTGTTAAACAACTTAGCTCCAATTTTGGTGCAATTTCAAGTGTTTTAAATGATATC\n",
      "CTTTCACGTCTTGACAAAGTTGAGGCTGAAGTGCAAATTGATAGGTTGATCACAGGCAGACTTCAAAGTT\n",
      "TGCAGACATATGTGACTCAACAATTAATTAGAGCTGCAGAAATCAGAGCTTCTGCTAATCTTGCTGCTAC\n",
      "TAAAATGTCAGAGTGTGTACTTGGACAATCAAAAAGAGTTGATTTTTGTGGAAAGGGCTATCATCTTATG\n",
      "TCCTTCCCTCAGTCAGCACCTCATGGTGTAGTCTTCTTGCATGTGACTTATGTCCCTGCACAAGAAAAGA\n",
      "ACTTCACAACTGCTCCTGCCATTTGTCATGATGGAAAAGCACACTTTCCTCGTGAAGGTGTCTTTGTTTC\n",
      "AAATGGCACACACTGGTTTGTAACACAAAGGAATTTTTATGAACCACAAATCATTACTACAGACAACACA\n",
      "TTTGTGTCTGGTAACTGTGATGTTGTAATAGGAATTGTCAACAACACAGTTTATGATCCTTTGCAACCTG\n",
      "AATTAGACTCATTCAAGGAGGAGTTAGATAAATATTTTAAGAATCATACATCACCAGATGTTGATTTAGG\n",
      "TGACATCTCTGGCATTAATGCTTCAGTTGTAAACATTCAAAAAGAAATTGACCGCCTCAATGAGGTTGCC\n",
      "AAGAATTTAAATGAATCTCTCATCGATCTCCAAGAACTTGGAAAGTATGAGCAGTATATAAAATGGCCAT\n",
      "GGTACATTTGGCTAGGTTTTATAGCTGGCTTGATTGCCATAGTAATGGTGACAATTATGCTTTGCTGTAT\n",
      "GACCAGTTGCTGTAGTTGTCTCAAGGGCTGTTGTTCTTGTGGATCCTGCTGCAAATTTGATGAAGACGAC\n",
      "TCTGAGCCAGTGCTCAAAGGAGTCAAATTACATTACACATAA\n",
      "\n"
     ]
    }
   ],
   "source": [
    "#test\n",
    "\n",
    "print(lire_adn(\"ncov-s.txt\"))"
   ]
  },
  {
   "cell_type": "markdown",
   "metadata": {
    "id": "a7WCdTtR7KsQ"
   },
   "source": [
    "# Transcription\n",
    "\n",
    "La _transcription_ est un mécanisme qui permet de copier l'ADN dans le noyau de la cellule pour former un __ARN__.  \n",
    "Lors de la transcription, la Thymine (__T__) est remplacée par l'Uracile (__U__).\n",
    "\n",
    "Ecrire une fonction `transcrire_adn(seq)` permettant de transcrire une séquence d'ADN en ARN.\n",
    "\n",
    "Par exemple, `transcrire_adn('AATGTCCAGTCAG')` doit renvoyer `'AAUGUCCAGUCAG'`."
   ]
  },
  {
   "cell_type": "code",
   "execution_count": 27,
   "metadata": {
    "id": "ywCmkFtK7KsR"
   },
   "outputs": [],
   "source": [
    "def transcrire_adn(seq):\n",
    "    # chaîne de caractères -> liste pour pouvoir modifier\n",
    "    adn = list(seq)\n",
    "    \n",
    "    for i in range(0, len(adn)):\n",
    "        # quand on trouve un T on le remplace par un U\n",
    "        if adn[i] == 'T':\n",
    "            adn[i] = 'U'\n",
    "        i += 1\n",
    "    # liste -> chaîne\n",
    "    return(\"\".join(adn))"
   ]
  },
  {
   "cell_type": "code",
   "execution_count": 28,
   "metadata": {},
   "outputs": [
    {
     "data": {
      "text/plain": [
       "'AAUGUCCAGUCAG'"
      ]
     },
     "execution_count": 28,
     "metadata": {},
     "output_type": "execute_result"
    }
   ],
   "source": [
    "#test\n",
    "transcrire_adn('AATGTCCAGTCAG')"
   ]
  },
  {
   "cell_type": "markdown",
   "metadata": {
    "id": "sAEb75pB7KsR"
   },
   "source": [
    "# Découpage de l'ARN\n",
    "\n",
    "L'ARN est découpé en _codons_, constitués de 3 bases successives, qui correspondent chacun à un acide aminé. Ils sont lus les uns à la suite des autres.\n",
    "\n",
    "Ecrire une fonction `arn_vers_codons(seq)` permettant de découper une séquence d'ADN en une liste de codons.\n",
    "\n",
    "Par exemple, `arn_vers_codons('AAUGUCCAGUCAGUU')` renverra:\n",
    "```['AAU', 'GUC', 'CAG', 'UCA', 'GUU']```"
   ]
  },
  {
   "cell_type": "code",
   "execution_count": 3,
   "metadata": {
    "id": "_8VHxZgV7KsS"
   },
   "outputs": [],
   "source": [
    "def arn_vers_codons(seq):\n",
    "    #initialisation de la liste réponse\n",
    "    codons = []\n",
    "    #parcours de la séquence par codon de trois caractères\n",
    "    for i in range(len(seq)//3): # garde que la partie entère de la division\n",
    "        codons.append(seq[i*3:i*3+3])\n",
    "    return codons"
   ]
  },
  {
   "cell_type": "code",
   "execution_count": 4,
   "metadata": {},
   "outputs": [
    {
     "data": {
      "text/plain": [
       "['AAU', 'GUC', 'CAG', 'UCA', 'GUU']"
      ]
     },
     "execution_count": 4,
     "metadata": {},
     "output_type": "execute_result"
    }
   ],
   "source": [
    "arn_vers_codons('AAUGUCCAGUCAGUU')"
   ]
  },
  {
   "cell_type": "markdown",
   "metadata": {
    "id": "d0fuI19W7KsS"
   },
   "source": [
    "# Traduction\n",
    "\n",
    "La _traduction_ de l'ADN consiste à lire l'ARN issu de la transcription pour synthétiser une protéine sous forme d'une chaîne d'acides aminés.\n",
    "\n",
    "Le dictionnaire ci-dessous donne la correspondance entre un codon, composé de trois bases d'ARN, et un acide aminé.  \n",
    "Par exemple, le codon `GUC` code pour l'acide aminé `Val` (valine)."
   ]
  },
  {
   "cell_type": "code",
   "execution_count": 6,
   "metadata": {
    "id": "V-SfulQV7KsS"
   },
   "outputs": [],
   "source": [
    "codage = {'GUC': 'Val', 'GUG': 'Val', 'UCA': 'Ser', 'CUC': 'Leu', 'AUU': 'Ile', 'CCU': 'Pro', 'CGG': 'Arg',\n",
    "          'GGU': 'Gly', 'CAU': 'His', 'CGU': 'Arg', 'GCG': 'Ala', 'AGA': 'Arg', 'CUG': 'Leu', 'GUU': 'Val',\n",
    "          'AUA': 'Ile', 'UGU': 'Cys', 'GCC': 'Ala', 'UAU': 'Tyr', 'ACU': 'Thr', 'UGG': 'Trp', 'CAG': 'Gln',\n",
    "          'CAC': 'His', 'AGC': 'Ser', 'GGG': 'Gly', 'CUU': 'Leu', 'ACA': 'Thr', 'CUA': 'Leu', 'GAA': 'Glu',\n",
    "          'AUC': 'Ile', 'CGC': 'Arg', 'UGC': 'Cys', 'UCC': 'Ser', 'AAU': 'Asn', 'UUC': 'Phe', 'CCC': 'Pro', \n",
    "          'AGG': 'Arg', 'UGA':  None, 'UAG':  None, 'UAA':  None, 'AUG': 'Met', 'UUG': 'Leu', 'UUA': 'Leu', \n",
    "          'AGU': 'Ser', 'GGC': 'Gly', 'GAU': 'Asp', 'CCA': 'Pro', 'CGA': 'Arg', 'GUA': 'Val', 'CAA': 'Gln',\n",
    "          'UCU': 'Ser', 'UCG': 'Ser', 'ACC': 'Thr', 'GAG': 'Glu', 'GGA': 'Gly', 'GCU': 'Ala', 'GAC': 'Asp',\n",
    "          'AAC': 'Asn', 'AAG': 'Lys', 'GCA': 'Ala', 'CCG': 'Pro', 'AAA': 'Lys', 'ACG': 'Thr', 'UAC': 'Tyr',\n",
    "          'UUU': 'Phe'}"
   ]
  },
  {
   "cell_type": "markdown",
   "metadata": {
    "id": "3Tms9Yze7KsT"
   },
   "source": [
    "On remarquera que plusieurs codons différents peuvent coder pour le même acide aminé.  \n",
    "Notez également que certains codent pour la valeur `None`. \n",
    "Ces derniers indiquent la fin de la partie \"codante\" et __stoppent__ la synthèse de la protéine.\n",
    "\n",
    "Écrire une fonction `traduire_arn(seq)` qui traduit l'ARN et renvoie la liste d'acides aminés correspondante.  \n",
    "__Attention__, la chaine doit s'arrêter au codon STOP.\n",
    "\n",
    "Exemple: `traduire_arn('AAUGUCCAGUAGUCA')` retournera `['Asn', 'Val', 'Gln']`."
   ]
  },
  {
   "cell_type": "code",
   "execution_count": 8,
   "metadata": {
    "id": "n79-RaK57KsT"
   },
   "outputs": [],
   "source": [
    "def traduire_arn(seq):\n",
    "    #initialisation de la liste réponse\n",
    "    aa = []\n",
    "    #passage de la séquence en liste de codons\n",
    "    codons = arn_vers_codons(seq)\n",
    "    \n",
    "    for codon in codons:\n",
    "        #test si le codon n'est pas un codon STOP\n",
    "        if codage.get(codon) != None:\n",
    "            aa.append(codage.get(codon))\n",
    "        else:\n",
    "            break\n",
    "    return aa"
   ]
  },
  {
   "cell_type": "code",
   "execution_count": 9,
   "metadata": {},
   "outputs": [
    {
     "data": {
      "text/plain": [
       "['Asn', 'Val', 'Gln']"
      ]
     },
     "execution_count": 9,
     "metadata": {},
     "output_type": "execute_result"
    }
   ],
   "source": [
    "traduire_arn('AAUGUCCAGUAGUCA')"
   ]
  },
  {
   "cell_type": "markdown",
   "metadata": {
    "id": "UYItVZRF7KsU"
   },
   "source": [
    "# Acide aminés\n",
    "\n",
    "On souhaite avoir un tableau permettant de savoir quels sont les codons qui correspondent à chaque acide aminé, sous cette forme:\n",
    "\n",
    "```\n",
    "Ala : GCA, GCC, GCG, GCU\n",
    "Arg : AGA, AGG, CGA, CGC, CGG, CGU\n",
    "Asn : AAC, AAU\n",
    "...\n",
    "```\n",
    "\n",
    "Ecrire le code permettant de générer ce tableau, et l'enregistrer dans un fichier `amines.txt`.  \n",
    "Ce fichier sera rendu avec le devoir."
   ]
  },
  {
   "cell_type": "code",
   "execution_count": 9,
   "metadata": {
    "id": "8K9-QSvZ7KsU"
   },
   "outputs": [],
   "source": [
    "#initialisation du tableau\n",
    "\n",
    "tableau = {}\n",
    "\n",
    "#fabrication du tableau à partir du codage\n",
    "\n",
    "def fabrication_tableau (table_codage):\n",
    "    for i in table_codage:\n",
    "        if table_codage[i] not in tableau:\n",
    "            tableau[table_codage[i]]=[i]\n",
    "        else:\n",
    "            tableau[table_codage[i]].append(i)\n",
    "    return tableau\n",
    "\n",
    "\n",
    "# tri du tableau par ordre alphabétique (sorted ne fonctionne pas car l'un des termes est None, qui n'est pas de type string)\n",
    "\n",
    "def tri_tableau(tableau_généré):\n",
    "    rep=[]\n",
    "    for i in tableau_généré :\n",
    "        rep.append(str(i))\n",
    "    tableau_trié={}\n",
    "    for j in sorted(rep):\n",
    "        if j !='None':\n",
    "            tableau_trié[j] = tableau_généré[j]\n",
    "    #on met les 'None' à la fin du tableau\n",
    "    tableau_trié['None']=tableau_généré[None]\n",
    "    return tableau_trié\n",
    "\n",
    "\n",
    "def impression_tableau(tableau_généré):\n",
    "    tableau_généré = tri_tableau(tableau_généré)\n",
    "    with open('amines.txt','w') as fp:\n",
    "        for aa in tableau_généré:\n",
    "            fp.write(\"{} : {} \\n\".format(aa, \", \".join(tableau_généré[aa])))\n"
   ]
  },
  {
   "cell_type": "code",
   "execution_count": 10,
   "metadata": {},
   "outputs": [],
   "source": [
    "#test : \n",
    "impression_tableau(fabrication_tableau(codage))"
   ]
  }
 ],
 "metadata": {
  "colab": {
   "name": "TD_20190918.ipynb",
   "provenance": []
  },
  "kernelspec": {
   "display_name": "Python 3",
   "language": "python",
   "name": "python3"
  },
  "language_info": {
   "codemirror_mode": {
    "name": "ipython",
    "version": 3
   },
   "file_extension": ".py",
   "mimetype": "text/x-python",
   "name": "python",
   "nbconvert_exporter": "python",
   "pygments_lexer": "ipython3",
   "version": "3.8.5"
  }
 },
 "nbformat": 4,
 "nbformat_minor": 1
}
